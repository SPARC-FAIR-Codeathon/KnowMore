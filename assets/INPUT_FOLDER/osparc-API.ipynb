{
 "cells": [
  {
   "cell_type": "code",
   "execution_count": 8,
   "metadata": {},
   "outputs": [
    {
     "name": "stdout",
     "output_type": "stream",
     "text": [
      "0.4.3\n",
      "https://api.osparc.io\n"
     ]
    },
    {
     "ename": "ApiException",
     "evalue": "(500)\nReason: Internal Server Error\nHTTP response headers: HTTPHeaderDict({'Content-Length': '123', 'Content-Type': 'application/json', 'Date': 'Thu, 22 Jul 2021 06:59:47 GMT', 'Server': 'uvicorn', 'Vary': 'Accept-Encoding, Accept-Encoding'})\nHTTP response body: {\"errors\":[\"1 validation error for PresignedLink\\n__root__\\n  PresignedLink expected dict not NoneType (type=type_error)\"]}\n",
     "output_type": "error",
     "traceback": [
      "\u001b[1;31m---------------------------------------------------------------------------\u001b[0m",
      "\u001b[1;31mApiException\u001b[0m                              Traceback (most recent call last)",
      "\u001b[1;32m<ipython-input-8-4c1e3d3b47f0>\u001b[0m in \u001b[0;36m<module>\u001b[1;34m\u001b[0m\n\u001b[0;32m     21\u001b[0m     \u001b[0mcurrent_folder\u001b[0m \u001b[1;33m=\u001b[0m \u001b[0mos\u001b[0m\u001b[1;33m.\u001b[0m\u001b[0mgetcwd\u001b[0m\u001b[1;33m(\u001b[0m\u001b[1;33m)\u001b[0m\u001b[1;33m\u001b[0m\u001b[1;33m\u001b[0m\u001b[0m\n\u001b[0;32m     22\u001b[0m     \u001b[0minput_file_path\u001b[0m \u001b[1;33m=\u001b[0m \u001b[0mos\u001b[0m\u001b[1;33m.\u001b[0m\u001b[0mpath\u001b[0m\u001b[1;33m.\u001b[0m\u001b[0mjoin\u001b[0m\u001b[1;33m(\u001b[0m\u001b[0mcurrent_folder\u001b[0m\u001b[1;33m,\u001b[0m \u001b[1;34m'tmp'\u001b[0m\u001b[1;33m,\u001b[0m \u001b[1;34m'fake-uuid-for-sample-data'\u001b[0m\u001b[1;33m,\u001b[0m \u001b[1;34m'INPUT_FOLDER'\u001b[0m\u001b[1;33m,\u001b[0m \u001b[1;34m'input.json'\u001b[0m\u001b[1;33m)\u001b[0m\u001b[1;33m\u001b[0m\u001b[1;33m\u001b[0m\u001b[0m\n\u001b[1;32m---> 23\u001b[1;33m     \u001b[0minput_file1\u001b[0m\u001b[1;33m:\u001b[0m \u001b[0mFile\u001b[0m \u001b[1;33m=\u001b[0m \u001b[0mfiles_api\u001b[0m\u001b[1;33m.\u001b[0m\u001b[0mupload_file\u001b[0m\u001b[1;33m(\u001b[0m\u001b[0mfile\u001b[0m\u001b[1;33m=\u001b[0m\u001b[1;34m\"main.zip\"\u001b[0m\u001b[1;33m)\u001b[0m\u001b[1;33m\u001b[0m\u001b[1;33m\u001b[0m\u001b[0m\n\u001b[0m\u001b[0;32m     24\u001b[0m     \u001b[0minput_file2\u001b[0m\u001b[1;33m:\u001b[0m \u001b[0mFile\u001b[0m \u001b[1;33m=\u001b[0m \u001b[0mfiles_api\u001b[0m\u001b[1;33m.\u001b[0m\u001b[0mupload_file\u001b[0m\u001b[1;33m(\u001b[0m\u001b[0mfile\u001b[0m\u001b[1;33m=\u001b[0m\u001b[0minput_file_path\u001b[0m\u001b[1;33m)\u001b[0m\u001b[1;33m\u001b[0m\u001b[1;33m\u001b[0m\u001b[0m\n\u001b[0;32m     25\u001b[0m \u001b[1;33m\u001b[0m\u001b[0m\n",
      "\u001b[1;32m~\\Anaconda3\\lib\\site-packages\\osparc\\api\\files_api.py\u001b[0m in \u001b[0;36mupload_file\u001b[1;34m(self, file, **kwargs)\u001b[0m\n\u001b[0;32m    375\u001b[0m         \"\"\"\n\u001b[0;32m    376\u001b[0m         \u001b[0mkwargs\u001b[0m\u001b[1;33m[\u001b[0m\u001b[1;34m'_return_http_data_only'\u001b[0m\u001b[1;33m]\u001b[0m \u001b[1;33m=\u001b[0m \u001b[1;32mTrue\u001b[0m\u001b[1;33m\u001b[0m\u001b[1;33m\u001b[0m\u001b[0m\n\u001b[1;32m--> 377\u001b[1;33m         \u001b[1;32mreturn\u001b[0m \u001b[0mself\u001b[0m\u001b[1;33m.\u001b[0m\u001b[0mupload_file_with_http_info\u001b[0m\u001b[1;33m(\u001b[0m\u001b[0mfile\u001b[0m\u001b[1;33m,\u001b[0m \u001b[1;33m**\u001b[0m\u001b[0mkwargs\u001b[0m\u001b[1;33m)\u001b[0m  \u001b[1;31m# noqa: E501\u001b[0m\u001b[1;33m\u001b[0m\u001b[1;33m\u001b[0m\u001b[0m\n\u001b[0m\u001b[0;32m    378\u001b[0m \u001b[1;33m\u001b[0m\u001b[0m\n\u001b[0;32m    379\u001b[0m     \u001b[1;32mdef\u001b[0m \u001b[0mupload_file_with_http_info\u001b[0m\u001b[1;33m(\u001b[0m\u001b[0mself\u001b[0m\u001b[1;33m,\u001b[0m \u001b[0mfile\u001b[0m\u001b[1;33m,\u001b[0m \u001b[1;33m**\u001b[0m\u001b[0mkwargs\u001b[0m\u001b[1;33m)\u001b[0m\u001b[1;33m:\u001b[0m  \u001b[1;31m# noqa: E501\u001b[0m\u001b[1;33m\u001b[0m\u001b[1;33m\u001b[0m\u001b[0m\n",
      "\u001b[1;32m~\\Anaconda3\\lib\\site-packages\\osparc\\api\\files_api.py\u001b[0m in \u001b[0;36mupload_file_with_http_info\u001b[1;34m(self, file, **kwargs)\u001b[0m\n\u001b[0;32m    465\u001b[0m             \u001b[0m_preload_content\u001b[0m\u001b[1;33m=\u001b[0m\u001b[0mlocal_var_params\u001b[0m\u001b[1;33m.\u001b[0m\u001b[0mget\u001b[0m\u001b[1;33m(\u001b[0m\u001b[1;34m'_preload_content'\u001b[0m\u001b[1;33m,\u001b[0m \u001b[1;32mTrue\u001b[0m\u001b[1;33m)\u001b[0m\u001b[1;33m,\u001b[0m\u001b[1;33m\u001b[0m\u001b[1;33m\u001b[0m\u001b[0m\n\u001b[0;32m    466\u001b[0m             \u001b[0m_request_timeout\u001b[0m\u001b[1;33m=\u001b[0m\u001b[0mlocal_var_params\u001b[0m\u001b[1;33m.\u001b[0m\u001b[0mget\u001b[0m\u001b[1;33m(\u001b[0m\u001b[1;34m'_request_timeout'\u001b[0m\u001b[1;33m)\u001b[0m\u001b[1;33m,\u001b[0m\u001b[1;33m\u001b[0m\u001b[1;33m\u001b[0m\u001b[0m\n\u001b[1;32m--> 467\u001b[1;33m             collection_formats=collection_formats)\n\u001b[0m",
      "\u001b[1;32m~\\Anaconda3\\lib\\site-packages\\osparc\\api_client.py\u001b[0m in \u001b[0;36mcall_api\u001b[1;34m(self, resource_path, method, path_params, query_params, header_params, body, post_params, files, response_type, auth_settings, async_req, _return_http_data_only, collection_formats, _preload_content, _request_timeout, _host)\u001b[0m\n\u001b[0;32m    354\u001b[0m                                    \u001b[0mresponse_type\u001b[0m\u001b[1;33m,\u001b[0m \u001b[0mauth_settings\u001b[0m\u001b[1;33m,\u001b[0m\u001b[1;33m\u001b[0m\u001b[1;33m\u001b[0m\u001b[0m\n\u001b[0;32m    355\u001b[0m                                    \u001b[0m_return_http_data_only\u001b[0m\u001b[1;33m,\u001b[0m \u001b[0mcollection_formats\u001b[0m\u001b[1;33m,\u001b[0m\u001b[1;33m\u001b[0m\u001b[1;33m\u001b[0m\u001b[0m\n\u001b[1;32m--> 356\u001b[1;33m                                    _preload_content, _request_timeout, _host)\n\u001b[0m\u001b[0;32m    357\u001b[0m \u001b[1;33m\u001b[0m\u001b[0m\n\u001b[0;32m    358\u001b[0m         return self.pool.apply_async(self.__call_api, (resource_path,\n",
      "\u001b[1;32m~\\Anaconda3\\lib\\site-packages\\osparc\\api_client.py\u001b[0m in \u001b[0;36m__call_api\u001b[1;34m(self, resource_path, method, path_params, query_params, header_params, body, post_params, files, response_type, auth_settings, _return_http_data_only, collection_formats, _preload_content, _request_timeout, _host)\u001b[0m\n\u001b[0;32m    182\u001b[0m             \u001b[0mpost_params\u001b[0m\u001b[1;33m=\u001b[0m\u001b[0mpost_params\u001b[0m\u001b[1;33m,\u001b[0m \u001b[0mbody\u001b[0m\u001b[1;33m=\u001b[0m\u001b[0mbody\u001b[0m\u001b[1;33m,\u001b[0m\u001b[1;33m\u001b[0m\u001b[1;33m\u001b[0m\u001b[0m\n\u001b[0;32m    183\u001b[0m             \u001b[0m_preload_content\u001b[0m\u001b[1;33m=\u001b[0m\u001b[0m_preload_content\u001b[0m\u001b[1;33m,\u001b[0m\u001b[1;33m\u001b[0m\u001b[1;33m\u001b[0m\u001b[0m\n\u001b[1;32m--> 184\u001b[1;33m             _request_timeout=_request_timeout)\n\u001b[0m\u001b[0;32m    185\u001b[0m \u001b[1;33m\u001b[0m\u001b[0m\n\u001b[0;32m    186\u001b[0m         \u001b[0mself\u001b[0m\u001b[1;33m.\u001b[0m\u001b[0mlast_response\u001b[0m \u001b[1;33m=\u001b[0m \u001b[0mresponse_data\u001b[0m\u001b[1;33m\u001b[0m\u001b[1;33m\u001b[0m\u001b[0m\n",
      "\u001b[1;32m~\\Anaconda3\\lib\\site-packages\\osparc\\api_client.py\u001b[0m in \u001b[0;36mrequest\u001b[1;34m(self, method, url, query_params, headers, post_params, body, _preload_content, _request_timeout)\u001b[0m\n\u001b[0;32m    406\u001b[0m                                         \u001b[0m_preload_content\u001b[0m\u001b[1;33m=\u001b[0m\u001b[0m_preload_content\u001b[0m\u001b[1;33m,\u001b[0m\u001b[1;33m\u001b[0m\u001b[1;33m\u001b[0m\u001b[0m\n\u001b[0;32m    407\u001b[0m                                         \u001b[0m_request_timeout\u001b[0m\u001b[1;33m=\u001b[0m\u001b[0m_request_timeout\u001b[0m\u001b[1;33m,\u001b[0m\u001b[1;33m\u001b[0m\u001b[1;33m\u001b[0m\u001b[0m\n\u001b[1;32m--> 408\u001b[1;33m                                         body=body)\n\u001b[0m\u001b[0;32m    409\u001b[0m         \u001b[1;32melif\u001b[0m \u001b[0mmethod\u001b[0m \u001b[1;33m==\u001b[0m \u001b[1;34m\"PATCH\"\u001b[0m\u001b[1;33m:\u001b[0m\u001b[1;33m\u001b[0m\u001b[1;33m\u001b[0m\u001b[0m\n\u001b[0;32m    410\u001b[0m             return self.rest_client.PATCH(url,\n",
      "\u001b[1;32m~\\Anaconda3\\lib\\site-packages\\osparc\\rest.py\u001b[0m in \u001b[0;36mPUT\u001b[1;34m(self, url, headers, query_params, post_params, body, _preload_content, _request_timeout)\u001b[0m\n\u001b[0;32m    285\u001b[0m                             \u001b[0m_preload_content\u001b[0m\u001b[1;33m=\u001b[0m\u001b[0m_preload_content\u001b[0m\u001b[1;33m,\u001b[0m\u001b[1;33m\u001b[0m\u001b[1;33m\u001b[0m\u001b[0m\n\u001b[0;32m    286\u001b[0m                             \u001b[0m_request_timeout\u001b[0m\u001b[1;33m=\u001b[0m\u001b[0m_request_timeout\u001b[0m\u001b[1;33m,\u001b[0m\u001b[1;33m\u001b[0m\u001b[1;33m\u001b[0m\u001b[0m\n\u001b[1;32m--> 287\u001b[1;33m                             body=body)\n\u001b[0m\u001b[0;32m    288\u001b[0m \u001b[1;33m\u001b[0m\u001b[0m\n\u001b[0;32m    289\u001b[0m     def PATCH(self, url, headers=None, query_params=None, post_params=None,\n",
      "\u001b[1;32m~\\Anaconda3\\lib\\site-packages\\osparc\\rest.py\u001b[0m in \u001b[0;36mrequest\u001b[1;34m(self, method, url, query_params, headers, body, post_params, _preload_content, _request_timeout)\u001b[0m\n\u001b[0;32m    228\u001b[0m \u001b[1;33m\u001b[0m\u001b[0m\n\u001b[0;32m    229\u001b[0m         \u001b[1;32mif\u001b[0m \u001b[1;32mnot\u001b[0m \u001b[1;36m200\u001b[0m \u001b[1;33m<=\u001b[0m \u001b[0mr\u001b[0m\u001b[1;33m.\u001b[0m\u001b[0mstatus\u001b[0m \u001b[1;33m<=\u001b[0m \u001b[1;36m299\u001b[0m\u001b[1;33m:\u001b[0m\u001b[1;33m\u001b[0m\u001b[1;33m\u001b[0m\u001b[0m\n\u001b[1;32m--> 230\u001b[1;33m             \u001b[1;32mraise\u001b[0m \u001b[0mApiException\u001b[0m\u001b[1;33m(\u001b[0m\u001b[0mhttp_resp\u001b[0m\u001b[1;33m=\u001b[0m\u001b[0mr\u001b[0m\u001b[1;33m)\u001b[0m\u001b[1;33m\u001b[0m\u001b[1;33m\u001b[0m\u001b[0m\n\u001b[0m\u001b[0;32m    231\u001b[0m \u001b[1;33m\u001b[0m\u001b[0m\n\u001b[0;32m    232\u001b[0m         \u001b[1;32mreturn\u001b[0m \u001b[0mr\u001b[0m\u001b[1;33m\u001b[0m\u001b[1;33m\u001b[0m\u001b[0m\n",
      "\u001b[1;31mApiException\u001b[0m: (500)\nReason: Internal Server Error\nHTTP response headers: HTTPHeaderDict({'Content-Length': '123', 'Content-Type': 'application/json', 'Date': 'Thu, 22 Jul 2021 06:59:47 GMT', 'Server': 'uvicorn', 'Vary': 'Accept-Encoding, Accept-Encoding'})\nHTTP response body: {\"errors\":[\"1 validation error for PresignedLink\\n__root__\\n  PresignedLink expected dict not NoneType (type=type_error)\"]}\n"
     ]
    }
   ],
   "source": [
    "import osparc\n",
    "import time\n",
    "from pathlib import Path\n",
    "from osparc.api import FilesApi, SolversApi\n",
    "from osparc.models import File, Job, JobInputs, JobOutputs, JobStatus, Solver\n",
    "import os\n",
    "print(osparc.__version__)\n",
    "\n",
    "OSPARC_API_KEY = os.environ['OSPARC_API_KEY']\n",
    "OSPARC_API_SECRET = os.environ['OSPARC_API_SECRET']\n",
    "\n",
    "cfg = osparc.Configuration(\n",
    "    username=OSPARC_API_KEY,\n",
    "    password=OSPARC_API_SECRET,\n",
    ")\n",
    "print(cfg.host)\n",
    "\n",
    "with osparc.ApiClient(cfg) as api_client:\n",
    "\n",
    "    files_api = FilesApi(api_client)\n",
    "    current_folder = os.getcwd()\n",
    "    input_file_path = os.path.join(current_folder, 'tmp', 'fake-uuid-for-sample-data', 'INPUT_FOLDER', 'input.json')\n",
    "    input_file1: File = files_api.upload_file(file=\"main.zip\")\n",
    "    input_file2: File = files_api.upload_file(file=input_file_path)\n",
    "\n",
    "    solvers_api = SolversApi(api_client)\n",
    "    solver: Solver = solvers_api.get_solver_release(\n",
    "        \"simcore/services/comp/osparc-python-runner\", \"1.2.0\"\n",
    "    )\n",
    "\n",
    "    job: Job = solvers_api.create_job(\n",
    "        solver.id,\n",
    "        solver.version,\n",
    "        JobInputs(\n",
    "            {\n",
    "                \"input_2\": input_file2,\n",
    "                \"input_1\": input_file1,\n",
    "            }\n",
    "        ),\n",
    "    )\n",
    "\n",
    "    status: JobStatus = solvers_api.start_job(solver.id, solver.version, job.id)\n",
    "    while not status.stopped_at:\n",
    "        time.sleep(3)\n",
    "        status = solvers_api.inspect_job(solver.id, solver.version, job.id)\n",
    "        print(\"Solver progress\", f\"{status.progress}/100\", flush=True)\n",
    "\n",
    "    outputs: JobOutputs = solvers_api.get_job_outputs(solver.id, solver.version, job.id)\n",
    "\n",
    "    print(f\"Job {outputs.job_id} got these results:\")\n",
    "    for output_name, result in outputs.results.items():\n",
    "        print(output_name, \"=\", result)\n",
    "\n",
    "    results_file: File = outputs.results[\"output_1\"]\n",
    "    download_path: str = files_api.download_file(file_id=results_file.id)\n",
    "    print(download_path)"
   ]
  },
  {
   "cell_type": "code",
   "execution_count": 9,
   "metadata": {},
   "outputs": [
    {
     "name": "stdout",
     "output_type": "stream",
     "text": [
      "0.4.3\n",
      "https://api.osparc.io\n"
     ]
    },
    {
     "ename": "ApiException",
     "evalue": "(401)\nReason: Unauthorized\nHTTP response headers: HTTPHeaderDict({'Content-Length': '38', 'Content-Type': 'application/json', 'Date': 'Thu, 22 Jul 2021 07:00:09 GMT', 'Server': 'uvicorn', 'Vary': 'Accept-Encoding, Accept-Encoding'})\nHTTP response body: {\"errors\":[\"Invalid API credentials\"]}\n",
     "output_type": "error",
     "traceback": [
      "\u001b[1;31m---------------------------------------------------------------------------\u001b[0m",
      "\u001b[1;31mApiException\u001b[0m                              Traceback (most recent call last)",
      "\u001b[1;32m<ipython-input-9-4ff73cdecd57>\u001b[0m in \u001b[0;36m<module>\u001b[1;34m\u001b[0m\n\u001b[0;32m     19\u001b[0m     \u001b[0mcurrent_folder\u001b[0m \u001b[1;33m=\u001b[0m \u001b[0mos\u001b[0m\u001b[1;33m.\u001b[0m\u001b[0mgetcwd\u001b[0m\u001b[1;33m(\u001b[0m\u001b[1;33m)\u001b[0m\u001b[1;33m\u001b[0m\u001b[1;33m\u001b[0m\u001b[0m\n\u001b[0;32m     20\u001b[0m     \u001b[0minput_file_path\u001b[0m \u001b[1;33m=\u001b[0m \u001b[0mos\u001b[0m\u001b[1;33m.\u001b[0m\u001b[0mpath\u001b[0m\u001b[1;33m.\u001b[0m\u001b[0mjoin\u001b[0m\u001b[1;33m(\u001b[0m\u001b[0mcurrent_folder\u001b[0m\u001b[1;33m,\u001b[0m \u001b[1;34m'tmp'\u001b[0m\u001b[1;33m,\u001b[0m \u001b[1;34m'fake-uuid-for-sample-data'\u001b[0m\u001b[1;33m,\u001b[0m \u001b[1;34m'INPUT_FOLDER'\u001b[0m\u001b[1;33m,\u001b[0m \u001b[1;34m'matlab-input-folder.zip'\u001b[0m\u001b[1;33m)\u001b[0m\u001b[1;33m\u001b[0m\u001b[1;33m\u001b[0m\u001b[0m\n\u001b[1;32m---> 21\u001b[1;33m     \u001b[0minput_file1\u001b[0m\u001b[1;33m:\u001b[0m \u001b[0mFile\u001b[0m \u001b[1;33m=\u001b[0m \u001b[0mfiles_api\u001b[0m\u001b[1;33m.\u001b[0m\u001b[0mupload_file\u001b[0m\u001b[1;33m(\u001b[0m\u001b[0mfile\u001b[0m\u001b[1;33m=\u001b[0m\u001b[0minput_file_path\u001b[0m\u001b[1;33m)\u001b[0m\u001b[1;33m\u001b[0m\u001b[1;33m\u001b[0m\u001b[0m\n\u001b[0m\u001b[0;32m     22\u001b[0m \u001b[1;33m\u001b[0m\u001b[0m\n\u001b[0;32m     23\u001b[0m     \u001b[0msolvers_api\u001b[0m \u001b[1;33m=\u001b[0m \u001b[0mSolversApi\u001b[0m\u001b[1;33m(\u001b[0m\u001b[0mapi_client\u001b[0m\u001b[1;33m)\u001b[0m\u001b[1;33m\u001b[0m\u001b[1;33m\u001b[0m\u001b[0m\n",
      "\u001b[1;32m~\\Anaconda3\\lib\\site-packages\\osparc\\api\\files_api.py\u001b[0m in \u001b[0;36mupload_file\u001b[1;34m(self, file, **kwargs)\u001b[0m\n\u001b[0;32m    375\u001b[0m         \"\"\"\n\u001b[0;32m    376\u001b[0m         \u001b[0mkwargs\u001b[0m\u001b[1;33m[\u001b[0m\u001b[1;34m'_return_http_data_only'\u001b[0m\u001b[1;33m]\u001b[0m \u001b[1;33m=\u001b[0m \u001b[1;32mTrue\u001b[0m\u001b[1;33m\u001b[0m\u001b[1;33m\u001b[0m\u001b[0m\n\u001b[1;32m--> 377\u001b[1;33m         \u001b[1;32mreturn\u001b[0m \u001b[0mself\u001b[0m\u001b[1;33m.\u001b[0m\u001b[0mupload_file_with_http_info\u001b[0m\u001b[1;33m(\u001b[0m\u001b[0mfile\u001b[0m\u001b[1;33m,\u001b[0m \u001b[1;33m**\u001b[0m\u001b[0mkwargs\u001b[0m\u001b[1;33m)\u001b[0m  \u001b[1;31m# noqa: E501\u001b[0m\u001b[1;33m\u001b[0m\u001b[1;33m\u001b[0m\u001b[0m\n\u001b[0m\u001b[0;32m    378\u001b[0m \u001b[1;33m\u001b[0m\u001b[0m\n\u001b[0;32m    379\u001b[0m     \u001b[1;32mdef\u001b[0m \u001b[0mupload_file_with_http_info\u001b[0m\u001b[1;33m(\u001b[0m\u001b[0mself\u001b[0m\u001b[1;33m,\u001b[0m \u001b[0mfile\u001b[0m\u001b[1;33m,\u001b[0m \u001b[1;33m**\u001b[0m\u001b[0mkwargs\u001b[0m\u001b[1;33m)\u001b[0m\u001b[1;33m:\u001b[0m  \u001b[1;31m# noqa: E501\u001b[0m\u001b[1;33m\u001b[0m\u001b[1;33m\u001b[0m\u001b[0m\n",
      "\u001b[1;32m~\\Anaconda3\\lib\\site-packages\\osparc\\api\\files_api.py\u001b[0m in \u001b[0;36mupload_file_with_http_info\u001b[1;34m(self, file, **kwargs)\u001b[0m\n\u001b[0;32m    465\u001b[0m             \u001b[0m_preload_content\u001b[0m\u001b[1;33m=\u001b[0m\u001b[0mlocal_var_params\u001b[0m\u001b[1;33m.\u001b[0m\u001b[0mget\u001b[0m\u001b[1;33m(\u001b[0m\u001b[1;34m'_preload_content'\u001b[0m\u001b[1;33m,\u001b[0m \u001b[1;32mTrue\u001b[0m\u001b[1;33m)\u001b[0m\u001b[1;33m,\u001b[0m\u001b[1;33m\u001b[0m\u001b[1;33m\u001b[0m\u001b[0m\n\u001b[0;32m    466\u001b[0m             \u001b[0m_request_timeout\u001b[0m\u001b[1;33m=\u001b[0m\u001b[0mlocal_var_params\u001b[0m\u001b[1;33m.\u001b[0m\u001b[0mget\u001b[0m\u001b[1;33m(\u001b[0m\u001b[1;34m'_request_timeout'\u001b[0m\u001b[1;33m)\u001b[0m\u001b[1;33m,\u001b[0m\u001b[1;33m\u001b[0m\u001b[1;33m\u001b[0m\u001b[0m\n\u001b[1;32m--> 467\u001b[1;33m             collection_formats=collection_formats)\n\u001b[0m",
      "\u001b[1;32m~\\Anaconda3\\lib\\site-packages\\osparc\\api_client.py\u001b[0m in \u001b[0;36mcall_api\u001b[1;34m(self, resource_path, method, path_params, query_params, header_params, body, post_params, files, response_type, auth_settings, async_req, _return_http_data_only, collection_formats, _preload_content, _request_timeout, _host)\u001b[0m\n\u001b[0;32m    354\u001b[0m                                    \u001b[0mresponse_type\u001b[0m\u001b[1;33m,\u001b[0m \u001b[0mauth_settings\u001b[0m\u001b[1;33m,\u001b[0m\u001b[1;33m\u001b[0m\u001b[1;33m\u001b[0m\u001b[0m\n\u001b[0;32m    355\u001b[0m                                    \u001b[0m_return_http_data_only\u001b[0m\u001b[1;33m,\u001b[0m \u001b[0mcollection_formats\u001b[0m\u001b[1;33m,\u001b[0m\u001b[1;33m\u001b[0m\u001b[1;33m\u001b[0m\u001b[0m\n\u001b[1;32m--> 356\u001b[1;33m                                    _preload_content, _request_timeout, _host)\n\u001b[0m\u001b[0;32m    357\u001b[0m \u001b[1;33m\u001b[0m\u001b[0m\n\u001b[0;32m    358\u001b[0m         return self.pool.apply_async(self.__call_api, (resource_path,\n",
      "\u001b[1;32m~\\Anaconda3\\lib\\site-packages\\osparc\\api_client.py\u001b[0m in \u001b[0;36m__call_api\u001b[1;34m(self, resource_path, method, path_params, query_params, header_params, body, post_params, files, response_type, auth_settings, _return_http_data_only, collection_formats, _preload_content, _request_timeout, _host)\u001b[0m\n\u001b[0;32m    182\u001b[0m             \u001b[0mpost_params\u001b[0m\u001b[1;33m=\u001b[0m\u001b[0mpost_params\u001b[0m\u001b[1;33m,\u001b[0m \u001b[0mbody\u001b[0m\u001b[1;33m=\u001b[0m\u001b[0mbody\u001b[0m\u001b[1;33m,\u001b[0m\u001b[1;33m\u001b[0m\u001b[1;33m\u001b[0m\u001b[0m\n\u001b[0;32m    183\u001b[0m             \u001b[0m_preload_content\u001b[0m\u001b[1;33m=\u001b[0m\u001b[0m_preload_content\u001b[0m\u001b[1;33m,\u001b[0m\u001b[1;33m\u001b[0m\u001b[1;33m\u001b[0m\u001b[0m\n\u001b[1;32m--> 184\u001b[1;33m             _request_timeout=_request_timeout)\n\u001b[0m\u001b[0;32m    185\u001b[0m \u001b[1;33m\u001b[0m\u001b[0m\n\u001b[0;32m    186\u001b[0m         \u001b[0mself\u001b[0m\u001b[1;33m.\u001b[0m\u001b[0mlast_response\u001b[0m \u001b[1;33m=\u001b[0m \u001b[0mresponse_data\u001b[0m\u001b[1;33m\u001b[0m\u001b[1;33m\u001b[0m\u001b[0m\n",
      "\u001b[1;32m~\\Anaconda3\\lib\\site-packages\\osparc\\api_client.py\u001b[0m in \u001b[0;36mrequest\u001b[1;34m(self, method, url, query_params, headers, post_params, body, _preload_content, _request_timeout)\u001b[0m\n\u001b[0;32m    406\u001b[0m                                         \u001b[0m_preload_content\u001b[0m\u001b[1;33m=\u001b[0m\u001b[0m_preload_content\u001b[0m\u001b[1;33m,\u001b[0m\u001b[1;33m\u001b[0m\u001b[1;33m\u001b[0m\u001b[0m\n\u001b[0;32m    407\u001b[0m                                         \u001b[0m_request_timeout\u001b[0m\u001b[1;33m=\u001b[0m\u001b[0m_request_timeout\u001b[0m\u001b[1;33m,\u001b[0m\u001b[1;33m\u001b[0m\u001b[1;33m\u001b[0m\u001b[0m\n\u001b[1;32m--> 408\u001b[1;33m                                         body=body)\n\u001b[0m\u001b[0;32m    409\u001b[0m         \u001b[1;32melif\u001b[0m \u001b[0mmethod\u001b[0m \u001b[1;33m==\u001b[0m \u001b[1;34m\"PATCH\"\u001b[0m\u001b[1;33m:\u001b[0m\u001b[1;33m\u001b[0m\u001b[1;33m\u001b[0m\u001b[0m\n\u001b[0;32m    410\u001b[0m             return self.rest_client.PATCH(url,\n",
      "\u001b[1;32m~\\Anaconda3\\lib\\site-packages\\osparc\\rest.py\u001b[0m in \u001b[0;36mPUT\u001b[1;34m(self, url, headers, query_params, post_params, body, _preload_content, _request_timeout)\u001b[0m\n\u001b[0;32m    285\u001b[0m                             \u001b[0m_preload_content\u001b[0m\u001b[1;33m=\u001b[0m\u001b[0m_preload_content\u001b[0m\u001b[1;33m,\u001b[0m\u001b[1;33m\u001b[0m\u001b[1;33m\u001b[0m\u001b[0m\n\u001b[0;32m    286\u001b[0m                             \u001b[0m_request_timeout\u001b[0m\u001b[1;33m=\u001b[0m\u001b[0m_request_timeout\u001b[0m\u001b[1;33m,\u001b[0m\u001b[1;33m\u001b[0m\u001b[1;33m\u001b[0m\u001b[0m\n\u001b[1;32m--> 287\u001b[1;33m                             body=body)\n\u001b[0m\u001b[0;32m    288\u001b[0m \u001b[1;33m\u001b[0m\u001b[0m\n\u001b[0;32m    289\u001b[0m     def PATCH(self, url, headers=None, query_params=None, post_params=None,\n",
      "\u001b[1;32m~\\Anaconda3\\lib\\site-packages\\osparc\\rest.py\u001b[0m in \u001b[0;36mrequest\u001b[1;34m(self, method, url, query_params, headers, body, post_params, _preload_content, _request_timeout)\u001b[0m\n\u001b[0;32m    228\u001b[0m \u001b[1;33m\u001b[0m\u001b[0m\n\u001b[0;32m    229\u001b[0m         \u001b[1;32mif\u001b[0m \u001b[1;32mnot\u001b[0m \u001b[1;36m200\u001b[0m \u001b[1;33m<=\u001b[0m \u001b[0mr\u001b[0m\u001b[1;33m.\u001b[0m\u001b[0mstatus\u001b[0m \u001b[1;33m<=\u001b[0m \u001b[1;36m299\u001b[0m\u001b[1;33m:\u001b[0m\u001b[1;33m\u001b[0m\u001b[1;33m\u001b[0m\u001b[0m\n\u001b[1;32m--> 230\u001b[1;33m             \u001b[1;32mraise\u001b[0m \u001b[0mApiException\u001b[0m\u001b[1;33m(\u001b[0m\u001b[0mhttp_resp\u001b[0m\u001b[1;33m=\u001b[0m\u001b[0mr\u001b[0m\u001b[1;33m)\u001b[0m\u001b[1;33m\u001b[0m\u001b[1;33m\u001b[0m\u001b[0m\n\u001b[0m\u001b[0;32m    231\u001b[0m \u001b[1;33m\u001b[0m\u001b[0m\n\u001b[0;32m    232\u001b[0m         \u001b[1;32mreturn\u001b[0m \u001b[0mr\u001b[0m\u001b[1;33m\u001b[0m\u001b[1;33m\u001b[0m\u001b[0m\n",
      "\u001b[1;31mApiException\u001b[0m: (401)\nReason: Unauthorized\nHTTP response headers: HTTPHeaderDict({'Content-Length': '38', 'Content-Type': 'application/json', 'Date': 'Thu, 22 Jul 2021 07:00:09 GMT', 'Server': 'uvicorn', 'Vary': 'Accept-Encoding, Accept-Encoding'})\nHTTP response body: {\"errors\":[\"Invalid API credentials\"]}\n"
     ]
    }
   ],
   "source": [
    "import osparc\n",
    "import time\n",
    "from pathlib import Path\n",
    "from osparc.api import FilesApi, SolversApi\n",
    "from osparc.models import File, Job, JobInputs, JobOutputs, JobStatus, Solver\n",
    "import os\n",
    "print(osparc.__version__)\n",
    "from zipfile import ZipFile\n",
    "\n",
    "cfg = osparc.Configuration(\n",
    "    username=os.environ[\"OSPARC_API_KEY\"],\n",
    "    password=os.environ[\"OSPARC_API_SECRET\"],\n",
    ")\n",
    "print(cfg.host)\n",
    "\n",
    "with osparc.ApiClient(cfg) as api_client:\n",
    "\n",
    "    files_api = FilesApi(api_client)\n",
    "    current_folder = os.getcwd()\n",
    "    input_file_path = os.path.join(current_folder, 'tmp', 'fake-uuid-for-sample-data', 'INPUT_FOLDER', 'matlab-input-folder.zip')\n",
    "    input_file1: File = files_api.upload_file(file=input_file_path)\n",
    "\n",
    "    solvers_api = SolversApi(api_client)\n",
    "    solver: Solver = solvers_api.get_solver_release(\n",
    "        \"simcore/services/comp/mat-parser\", \"1.0.0\"\n",
    "    )\n",
    "\n",
    "    job: Job = solvers_api.create_job(\n",
    "        solver.id,\n",
    "        solver.version,\n",
    "        JobInputs(\n",
    "            {\n",
    "                \"input_1\": input_file1,\n",
    "            }\n",
    "        ),\n",
    "    )\n",
    "\n",
    "    status: JobStatus = solvers_api.start_job(solver.id, solver.version, job.id)\n",
    "    while not status.stopped_at:\n",
    "        time.sleep(3)\n",
    "        status = solvers_api.inspect_job(solver.id, solver.version, job.id)\n",
    "        print(\"Solver progress\", f\"{status.progress}/100\", flush=True)\n",
    "\n",
    "    outputs: JobOutputs = solvers_api.get_job_outputs(solver.id, solver.version, job.id)\n",
    "\n",
    "    print(f\"Job {outputs.job_id} got these results:\")\n",
    "    for output_name, result in outputs.results.items():\n",
    "        print(output_name, \"=\", result)\n",
    "\n",
    "    results_file: File = outputs.results[\"output_1\"]\n",
    "    download_path: str = files_api.download_file(file_id=results_file.id)\n",
    "    print(download_path)\n",
    "    if os.path.isfile(download_path) or os.path.isfir(download_path):\n",
    "        print(\"Unzipping\")\n",
    "        unzip_location = os.path.join(current_folder, 'tmp', 'fake-uuid-for-sample-data', 'OUTPUT_FOLDER')\n",
    "        with ZipFile(download_path, 'r') as zipObj:\n",
    "            zipObj.extractall(unzip_location)"
   ]
  },
  {
   "cell_type": "code",
   "execution_count": 3,
   "metadata": {},
   "outputs": [
    {
     "name": "stdout",
     "output_type": "stream",
     "text": [
      "Unzipping\n"
     ]
    }
   ],
   "source": []
  },
  {
   "cell_type": "code",
   "execution_count": null,
   "metadata": {},
   "outputs": [],
   "source": []
  }
 ],
 "metadata": {
  "kernelspec": {
   "display_name": "Python 3",
   "language": "python",
   "name": "python3"
  },
  "language_info": {
   "codemirror_mode": {
    "name": "ipython",
    "version": 3
   },
   "file_extension": ".py",
   "mimetype": "text/x-python",
   "name": "python",
   "nbconvert_exporter": "python",
   "pygments_lexer": "ipython3",
   "version": "3.7.2"
  }
 },
 "nbformat": 4,
 "nbformat_minor": 4
}
