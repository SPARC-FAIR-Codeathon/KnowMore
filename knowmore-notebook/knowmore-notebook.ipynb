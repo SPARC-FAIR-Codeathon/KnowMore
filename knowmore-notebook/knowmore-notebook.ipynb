{
 "cells": [
  {
   "cell_type": "markdown",
   "metadata": {},
   "source": [
    "# KnowMore Notebook Edition"
   ]
  },
  {
   "cell_type": "markdown",
   "metadata": {},
   "source": [
    "## 1. Enter Ids of datasets of interest"
   ]
  },
  {
   "cell_type": "code",
   "execution_count": 1,
   "metadata": {},
   "outputs": [],
   "source": [
    "#list_datasetids = ['60', '64', '16']\n",
    "list_datasetids = ['60', '64', '65', '16', '61', '82', '89']"
   ]
  },
  {
   "cell_type": "markdown",
   "metadata": {},
   "source": [
    "# 2. Run data processing jobs on osparc"
   ]
  },
  {
   "cell_type": "code",
   "execution_count": 2,
   "metadata": {},
   "outputs": [
    {
     "name": "stdout",
     "output_type": "stream",
     "text": [
      "0.4.3\n",
      "https://api.osparc.io\n",
      "-------------------------------\n",
      "Running Python Runner on osparc\n",
      "Solver progress 0/100\n",
      "Solver progress 0/100\n",
      "Solver progress 0/100\n",
      "Solver progress 0/100\n",
      "Solver progress 0/100\n",
      "Solver progress 0/100\n",
      "Solver progress 0/100\n",
      "Solver progress 0/100\n",
      "Solver progress 0/100\n",
      "Solver progress 0/100\n",
      "Solver progress 0/100\n",
      "Solver progress 0/100\n",
      "Solver progress 0/100\n",
      "Solver progress 0/100\n",
      "Solver progress 0/100\n",
      "Solver progress 0/100\n",
      "Solver progress 0/100\n",
      "Solver progress 0/100\n",
      "Solver progress 0/100\n",
      "Solver progress 0/100\n",
      "Solver progress 0/100\n",
      "Solver progress 0/100\n",
      "Solver progress 0/100\n",
      "Solver progress 0/100\n",
      "Solver progress 0/100\n",
      "Solver progress 0/100\n",
      "Solver progress 0/100\n",
      "Solver progress 0/100\n",
      "Solver progress 0/100\n",
      "Solver progress 0/100\n",
      "Solver progress 0/100\n",
      "Solver progress 0/100\n",
      "Solver progress 0/100\n",
      "Solver progress 0/100\n",
      "Solver progress 0/100\n",
      "Solver progress 0/100\n",
      "Solver progress 0/100\n",
      "Solver progress 0/100\n",
      "Solver progress 0/100\n",
      "Solver progress 100/100\n",
      "Job e0f9358f-b540-434f-9da0-871a1ef1174f got these results:\n",
      "output_1 = {'checksum': 'b5fa2cde206aa9bd31b3e01c50a3ca47',\n",
      " 'content_type': 'application/zip',\n",
      " 'filename': 'output_data.zip',\n",
      " 'id': '41f0079e-f831-3419-af46-6d5d87039383'}\n",
      "Unzipping outputs\n",
      "Unzipped at  C:\\Users\\Calmi2\\Documents\\GitHub\\KnowMore-py\\static\\notebook-output\n",
      "-------------------------------\n",
      "Running custome Matlab script on osparc\n",
      "Solver progress 0/100\n",
      "Solver progress 0/100\n",
      "Solver progress 0/100\n",
      "Solver progress 0/100\n",
      "Solver progress 0/100\n",
      "Solver progress 0/100\n",
      "Solver progress 0/100\n",
      "Solver progress 0/100\n",
      "Solver progress 0/100\n",
      "Solver progress 0/100\n",
      "Solver progress 0/100\n",
      "Solver progress 0/100\n",
      "Solver progress 0/100\n",
      "Solver progress 0/100\n",
      "Solver progress 0/100\n",
      "Solver progress 0/100\n",
      "Solver progress 0/100\n",
      "Solver progress 100/100\n",
      "Job d1875be1-b93a-4ad8-b0a1-59a1d6857f8d got these results:\n",
      "output_1 = {'checksum': 'bf2976431b28f5f8a347eb4000430343',\n",
      " 'content_type': 'application/zip',\n",
      " 'filename': 'matlab-output.zip',\n",
      " 'id': '32bf1142-8689-31e6-bdc6-4cfc03a83ef5'}\n",
      "C:\\Users\\Calmi2\\AppData\\Local\\Temp\\tmp7y6_coxx\n",
      "Unzipping outputs\n"
     ]
    }
   ],
   "source": [
    "import osparc\n",
    "import time\n",
    "from pathlib import Path\n",
    "from osparc.api import FilesApi, SolversApi\n",
    "from osparc.models import File, Job, JobInputs, JobOutputs, JobStatus, Solver\n",
    "import os\n",
    "import json\n",
    "from zipfile import ZipFile\n",
    "import shutil\n",
    "import pandas as pd\n",
    "print(osparc.__version__)\n",
    "\n",
    "OSPARC_API_KEY = os.environ['OSPARC_API_KEY']\n",
    "OSPARC_API_SECRET = os.environ['OSPARC_API_SECRET']\n",
    "\n",
    "cfg = osparc.Configuration(\n",
    "    username=OSPARC_API_KEY,\n",
    "    password=OSPARC_API_SECRET,\n",
    ")\n",
    "print(cfg.host)\n",
    "\n",
    "#Save user selected datasetid in json\n",
    "current_folder = os.getcwd()\n",
    "main_folder = os.path.dirname(current_folder)\n",
    "asset_input_folder = os.path.join(main_folder, 'assets', 'INPUT_FOLDER')\n",
    "local_input_folder = os.path.join(asset_input_folder, 'tmp', 'fake-uuid-for-sample-data', 'INPUT_FOLDER')\n",
    "local_output_folder = os.path.join(main_folder, 'static', 'notebook-output')\n",
    "input_file = {}\n",
    "input_file[\"datasetIds\"] = list_datasetids\n",
    "input_json_save_file = os.path.join(local_input_folder, 'input.json')\n",
    "with open(input_json_save_file, 'w+') as f:\n",
    "    # this would place the entire output on one line\n",
    "    # use json.dump(lista_items, f, indent=4) to \"pretty-print\" with four spaces per indent\n",
    "    json.dump(input_file, f)\n",
    "\n",
    "with osparc.ApiClient(cfg) as api_client:\n",
    "\n",
    "    files_api = FilesApi(api_client)\n",
    "    \n",
    "    print(\"-------------------------------\")\n",
    "    print(\"Running Python Runner on osparc\")\n",
    "    \n",
    "    input_file_path = os.path.join(local_input_folder, 'input.json')\n",
    "    input_file1: File = files_api.upload_file(file=os.path.join(asset_input_folder, \"main.zip\"))\n",
    "    input_file2: File = files_api.upload_file(file=input_file_path)\n",
    "\n",
    "    solvers_api = SolversApi(api_client)\n",
    "    solver: Solver = solvers_api.get_solver_release(\n",
    "        \"simcore/services/comp/osparc-python-runner\", \"1.2.0\"\n",
    "    )\n",
    "\n",
    "    job: Job = solvers_api.create_job(\n",
    "        solver.id,\n",
    "        solver.version,\n",
    "        JobInputs(\n",
    "            {\n",
    "                \"input_2\": input_file2,\n",
    "                \"input_1\": input_file1,\n",
    "            }\n",
    "        ),\n",
    "    )\n",
    "\n",
    "    status: JobStatus = solvers_api.start_job(solver.id, solver.version, job.id)\n",
    "    \n",
    "    while not status.stopped_at:\n",
    "        time.sleep(5)\n",
    "        status = solvers_api.inspect_job(solver.id, solver.version, job.id)\n",
    "        print(\"Solver progress\", f\"{status.progress}/100\", flush=True)\n",
    "\n",
    "    outputs: JobOutputs = solvers_api.get_job_outputs(solver.id, solver.version, job.id)\n",
    "\n",
    "    print(f\"Job {outputs.job_id} got these results:\")\n",
    "    for output_name, result in outputs.results.items():\n",
    "        print(output_name, \"=\", result)\n",
    "\n",
    "    results_file: File = outputs.results[\"output_1\"]\n",
    "    download_path: str = files_api.download_file(file_id=results_file.id)\n",
    "    if os.path.isfile(download_path) or os.path.isdir(download_path):\n",
    "        print(\"Unzipping outputs\")\n",
    "        if os.path.isdir(local_output_folder):\n",
    "            shutil.rmtree(local_output_folder)\n",
    "        os.makedirs(local_output_folder)\n",
    "        with ZipFile(download_path, 'r') as zipObj:\n",
    "            zipObj.extractall(local_output_folder)\n",
    "        print(\"Unzipped at \", local_output_folder)\n",
    "\n",
    "    print(\"-------------------------------\")\n",
    "    print(\"Running custome Matlab script on osparc\")  \n",
    "    if os.path.isdir(os.path.join(local_output_folder, 'matlab-input-folder')):\n",
    "        matlab_plots = 1\n",
    "        input_file_path = os.path.join(local_output_folder, 'matlab-input-folder.zip')\n",
    "        input_file1: File = files_api.upload_file(file=input_file_path)\n",
    "\n",
    "        solvers_api = SolversApi(api_client)\n",
    "        solver: Solver = solvers_api.get_solver_release(\n",
    "            \"simcore/services/comp/mat-parser\", \"1.1.0\"\n",
    "        )\n",
    "\n",
    "        job: Job = solvers_api.create_job(\n",
    "            solver.id,\n",
    "            solver.version,\n",
    "            JobInputs(\n",
    "                {\n",
    "                    \"input_1\": input_file1,\n",
    "                }\n",
    "            ),\n",
    "        )\n",
    "\n",
    "        status: JobStatus = solvers_api.start_job(solver.id, solver.version, job.id)\n",
    "        while not status.stopped_at:\n",
    "            time.sleep(5)\n",
    "            status = solvers_api.inspect_job(solver.id, solver.version, job.id)\n",
    "            print(\"Solver progress\", f\"{status.progress}/100\", flush=True)\n",
    "\n",
    "        outputs: JobOutputs = solvers_api.get_job_outputs(solver.id, solver.version, job.id)\n",
    "\n",
    "        print(f\"Job {outputs.job_id} got these results:\")\n",
    "        for output_name, result in outputs.results.items():\n",
    "            print(output_name, \"=\", result)\n",
    "\n",
    "        results_file: File = outputs.results[\"output_1\"]\n",
    "        download_path: str = files_api.download_file(file_id=results_file.id)\n",
    "        print(download_path)\n",
    "        if os.path.isfile(download_path) or os.path.isdir(download_path):\n",
    "            print(\"Unzipping outputs\")\n",
    "            with ZipFile(download_path, 'r') as zipObj:\n",
    "                zipObj.extractall(local_output_folder) \n",
    "    else:\n",
    "        matlab_plots = 0\n",
    "        print('No tabular data applicable for these datasets')"
   ]
  },
  {
   "cell_type": "markdown",
   "metadata": {},
   "source": [
    "# 3. Visualize results"
   ]
  },
  {
   "cell_type": "code",
   "execution_count": 19,
   "metadata": {},
   "outputs": [
    {
     "name": "stdout",
     "output_type": "stream",
     "text": [
      "good\n"
     ]
    }
   ],
   "source": [
    "list_datasetIds = ['60', '64']\n",
    "if list_datasetIds and set(list_datasetIds).issubset(['60', '64', '65']):\n",
    "    print('good')"
   ]
  },
  {
   "cell_type": "code",
   "execution_count": 42,
   "metadata": {},
   "outputs": [
    {
     "name": "stdout",
     "output_type": "stream",
     "text": [
      "['56', '60']\n"
     ]
    }
   ],
   "source": [
    "input_info_file = os.path.join(local_output_folder, 'matlab-input-folder', 'matlab_input.xlsx')\n",
    "df = pd.read_excel(input_info_file)\n",
    "list_datasetIds = list(df['datasetId'].values)\n",
    "list_datasetIds = ['56', '60']\n",
    "print(list_datasetIds)\n",
    "if list_datasetIds and set(list_datasetIds).issubset([60, 64, 65]):\n",
    "    print('good')"
   ]
  },
  {
   "cell_type": "code",
   "execution_count": 9,
   "metadata": {},
   "outputs": [
    {
     "name": "stdout",
     "output_type": "stream",
     "text": [
      "continue\n"
     ]
    }
   ],
   "source": [
    "def check_list(my_list, check_list):\n",
    "    for item in my_list:\n",
    "        if item in check_list:\n",
    "            "
   ]
  },
  {
   "cell_type": "code",
   "execution_count": null,
   "metadata": {},
   "outputs": [],
   "source": []
  },
  {
   "cell_type": "code",
   "execution_count": null,
   "metadata": {},
   "outputs": [],
   "source": []
  },
  {
   "cell_type": "code",
   "execution_count": null,
   "metadata": {},
   "outputs": [],
   "source": []
  }
 ],
 "metadata": {
  "kernelspec": {
   "display_name": "Python 3",
   "language": "python",
   "name": "python3"
  },
  "language_info": {
   "codemirror_mode": {
    "name": "ipython",
    "version": 3
   },
   "file_extension": ".py",
   "mimetype": "text/x-python",
   "name": "python",
   "nbconvert_exporter": "python",
   "pygments_lexer": "ipython3",
   "version": "3.7.2"
  }
 },
 "nbformat": 4,
 "nbformat_minor": 4
}
